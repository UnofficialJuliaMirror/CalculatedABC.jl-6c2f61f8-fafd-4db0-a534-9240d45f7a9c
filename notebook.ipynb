{
 "cells": [
  {
   "cell_type": "code",
   "execution_count": 1,
   "metadata": {},
   "outputs": [],
   "source": [
    "import CalculatedABC"
   ]
  },
  {
   "cell_type": "code",
   "execution_count": 2,
   "metadata": {},
   "outputs": [],
   "source": [
    "using DelimitedFiles"
   ]
  },
  {
   "cell_type": "code",
   "execution_count": 6,
   "metadata": {},
   "outputs": [
    {
     "data": {
      "text/plain": [
       "2896-element Array{Float64,1}:\n",
       "  607.0\n",
       " 2779.0\n",
       "  691.0\n",
       " 1408.0\n",
       "  849.0\n",
       "  697.0\n",
       "  529.0\n",
       "  493.0\n",
       " 1396.0\n",
       " 1335.0\n",
       " 1107.0\n",
       "  480.0\n",
       "  579.0\n",
       "    ⋮  \n",
       "   59.0\n",
       "  318.0\n",
       "  212.0\n",
       "  244.0\n",
       "  135.0\n",
       " 6959.0\n",
       "  362.0\n",
       "   77.0\n",
       "  232.0\n",
       "  828.0\n",
       "  116.0\n",
       "  794.0"
      ]
     },
     "execution_count": 6,
     "metadata": {},
     "output_type": "execute_result"
    }
   ],
   "source": [
    "swiss = readdlm(\"swissinhabitants\")[:,1]"
   ]
  },
  {
   "cell_type": "code",
   "execution_count": 7,
   "metadata": {},
   "outputs": [
    {
     "data": {
      "text/plain": [
       "2897-element ABCcurve\n",
       " (0.0, 0.0)\n",
       " (0.0003453038674033149, 0.05068150564379638)\n",
       " (0.0006906077348066298, 0.0836086030755606)\n",
       " (0.0010359116022099447, 0.11297576972719564)\n",
       " (0.0013812154696132596, 0.13335141149958388)\n",
       " (0.0017265193370165745, 0.14957832526401613)\n",
       " (0.0020718232044198894, 0.16367446873266525)\n",
       " (0.0024171270718232043, 0.1760298597413817)\n",
       " (0.0027624309392265192, 0.1868791725951087)\n",
       " (0.003107734806629834, 0.1957946847174844)\n",
       " (0.003453038674033149, 0.20461910218678445)\n",
       " (0.003798342541436464, 0.21101231798790612)\n",
       " ⋮\n",
       " (0.9958563535911602, 0.999845259744941)\n",
       " (0.9962016574585635, 0.9998606432790696)\n",
       " (0.9965469613259669, 0.9998757251752742)\n",
       " (0.9968922651933702, 0.9998905054335547)\n",
       " (0.9972375690607734, 0.9999049840539111)\n",
       " (0.9975828729281768, 0.9999191610363435)\n",
       " (0.9979281767955801, 0.9999333380187757)\n",
       " (0.9982734806629834, 0.9999469117253599)\n",
       " (0.9986187845303868, 0.9999595805181717)\n",
       " (0.99896408839779, 0.9999719476730595)\n",
       " (0.9993093922651933, 0.9999816000866304)\n",
       " (0.9996546961325967, 0.9999909508622773)\n",
       " (1.0, 1.0)"
      ]
     },
     "execution_count": 7,
     "metadata": {},
     "output_type": "execute_result"
    }
   ],
   "source": [
    "curve = CalculatedABC.ABCcurve(swiss)"
   ]
  },
  {
   "cell_type": "code",
   "execution_count": 8,
   "metadata": {},
   "outputs": [
    {
     "data": {
      "text/plain": [
       "0.6294073840902157"
      ]
     },
     "execution_count": 8,
     "metadata": {},
     "output_type": "execute_result"
    }
   ],
   "source": [
    "CalculatedABC.gini_coeff(swiss)"
   ]
  },
  {
   "cell_type": "code",
   "execution_count": 9,
   "metadata": {},
   "outputs": [
    {
     "data": {
      "text/plain": [
       "0.6294073840902157"
      ]
     },
     "execution_count": 9,
     "metadata": {},
     "output_type": "execute_result"
    }
   ],
   "source": [
    "CalculatedABC.gini_coeff(curve)"
   ]
  },
  {
   "cell_type": "code",
   "execution_count": 10,
   "metadata": {},
   "outputs": [
    {
     "data": {
      "text/plain": [
       "(736, 643, 1025)"
      ]
     },
     "execution_count": 10,
     "metadata": {},
     "output_type": "execute_result"
    }
   ],
   "source": [
    "CalculatedABC.abc_analysis(curve)"
   ]
  },
  {
   "cell_type": "code",
   "execution_count": null,
   "metadata": {},
   "outputs": [],
   "source": []
  }
 ],
 "metadata": {
  "kernelspec": {
   "display_name": "Julia 1.2.0",
   "language": "julia",
   "name": "julia-1.2"
  },
  "language_info": {
   "file_extension": ".jl",
   "mimetype": "application/julia",
   "name": "julia",
   "version": "1.2.0"
  }
 },
 "nbformat": 4,
 "nbformat_minor": 2
}
